{
 "cells": [
  {
   "cell_type": "code",
   "execution_count": 7,
   "metadata": {},
   "outputs": [
    {
     "name": "stdout",
     "output_type": "stream",
     "text": [
      "The autoreload extension is already loaded. To reload it, use:\n",
      "  %reload_ext autoreload\n"
     ]
    }
   ],
   "source": [
    "import warnings\n",
    "warnings.filterwarnings(action='once')\n",
    "import pandas as pd\n",
    "import numpy as np\n",
    "from IPython.core.interactiveshell import InteractiveShell\n",
    "InteractiveShell.ast_node_interactivity = \"all\"\n",
    "import pickle\n",
    "%load_ext autoreload\n",
    "%autoreload 2\n",
    "%matplotlib inline\n",
    "from exp.misc import *\n",
    "from exp.ProcessData import *\n",
    "import torch\n",
    "import torch.nn as nn\n",
    "import torch.utils.data as D\n",
    "import torch.nn.functional as F\n",
    "import copy\n",
    "import os\n",
    "import matplotlib.pyplot as plt\n",
    "import seaborn as sns\n",
    "from tqdm import notebook\n",
    "import PIL.Image\n",
    "from PIL import  ImageDraw\n",
    "import pydicom\n",
    "import cv2\n",
    "from torchvision import transforms\n",
    "import torchvision.transforms.functional as TF"
   ]
  },
  {
   "cell_type": "code",
   "execution_count": 8,
   "metadata": {},
   "outputs": [],
   "source": [
    "params=json_to_parameters('config.json')\n",
    "train_df=pd.read_csv(params.path.data+'train.csv')\n",
    "test_df=pd.read_csv(params.path.data+'test.csv')"
   ]
  },
  {
   "cell_type": "code",
   "execution_count": null,
   "metadata": {},
   "outputs": [],
   "source": [
    "class ImageDatasetProcess(Dataset):\n",
    "    \n",
    "    def __init__(self,file_path_in,file_path_out,df,transform=None,pre_out=''):\n",
    "        super(ImageDatasetProcess, self).__init__()\n",
    "        self.df=df\n",
    "        self.file_list=list(file_path_in+df.image_name+'.jpg')\n",
    "        self.file_list_out=list(file_path_out+pre_out+df.image_name+'.jpg')\n",
    "        self.transform=transform\n",
    "    \n",
    "    def __len__(self):\n",
    "        return len(self.file_list)\n",
    "    \n",
    "    def __getitem__(self,idx):\n",
    "        img=self.transform(PIL.Image.open(self.file_list[idx]))\n",
    "        img.save(self.file_list_out[idx])\n",
    "        return torch.tensor(idx)\n"
   ]
  },
  {
   "cell_type": "code",
   "execution_count": null,
   "metadata": {},
   "outputs": [],
   "source": [
    "train_df=pd.read_csv(params.path.data+'train.csv')\n",
    "prepare_df(train_df)\n",
    "train_df=train_df.reset_index(drop=True)\n",
    "ds = ImageDatasetProcess(params.path.train_jpg,params.path.train_small,train_df,\n",
    "                         transform=transforms.Compose([MyResize2(400,600)]))\n",
    "\n",
    "dl = D.DataLoader(ds, batch_size=32,num_workers=18,shuffle=True)\n",
    "\n",
    "for i in notebook.tqdm(dl):\n",
    "    pass"
   ]
  },
  {
   "cell_type": "code",
   "execution_count": null,
   "metadata": {},
   "outputs": [],
   "source": [
    "test_df=pd.read_csv(params.path.data+'test.csv')\n",
    "prepare_df(test_df)\n",
    "test_df=test_df.reset_index(drop=True)\n",
    "ds = ImageDatasetProcess(params.path.test_jpg,params.path.test_jpg_small,test_df,\n",
    "                         transform=transforms.Compose([MyResize2(400,600)]))\n",
    "dl = D.DataLoader(ds, batch_size=32,num_workers=18,shuffle=True)\n",
    "for i in notebook.tqdm(dl):\n",
    "    pass"
   ]
  },
  {
   "cell_type": "code",
   "execution_count": 9,
   "metadata": {},
   "outputs": [],
   "source": [
    "#Prepare ISIM2019 competition's data\n",
    "isim2019_gt = pd.read_csv(params.path.ISIC_2019+'Training_GroundTruth.csv')\n",
    "isim2019_meta = pd.read_csv(params.path.ISIC_2019+'Training_Metadata.csv')\n",
    "isim2019_gt['diagnosis']=\"\"\n",
    "\n",
    "digdict={\"MEL\":\"melanoma\",\"NV\":\"nevus\",\"BCC\":\"Basal cell carcinoma\",\"AK\":\"Actinic keratosis\",\"BKL\":\"Benign keratosis\",\n",
    "        \"DF\":\"Dermatofibroma\",\"VASC\":\"Vascular lesion\",\"SCC\":\"Squamous cell carcinoma\",\"UNK\":\"unknown\"}\n",
    "for key in digdict.keys():\n",
    "    isim2019_gt['diagnosis']=np.where(isim2019_gt[key]>0,digdict[key],isim2019_gt['diagnosis'])\n",
    "isim2019_df=isim2019_meta.merge(isim2019_gt[['image','diagnosis']],on='image').drop('lesion_id',1)\n",
    "isim2019_df=isim2019_df.rename(columns={'image':'image_name','anatom_site_general':'anatom_site_general_challenge'})\n",
    "isim2019_df['target']=(isim2019_df.diagnosis=='melanoma').astype(int)\n",
    "isim2019_df['benign_malignant']=np.where(isim2019_df['diagnosis'].isin([\"melanoma\",\"Basal cell carcinoma\",\"Squamous cell carcinoma\"]),'malignant','benign')\n",
    "isim2019_df.image_name='ISIM2019_'+isim2019_df.image_name\n",
    "isim2019_df.to_csv(params.path.data+'isim2019.csv',index=False)"
   ]
  },
  {
   "cell_type": "code",
   "execution_count": null,
   "metadata": {},
   "outputs": [],
   "source": [
    "ds = ImageDatasetProcess(params.path.train_ISIC_2019,params.path.train_small_ISIC_2019,isim2019_df,\n",
    "                         transform=transforms.Compose([MyResize2(400,600)]),pre_out='ISIM2019_')\n",
    "dl = D.DataLoader(ds, batch_size=32,num_workers=18,shuffle=True)\n",
    "for i in notebook.tqdm(dl):\n",
    "    pass"
   ]
  },
  {
   "cell_type": "code",
   "execution_count": null,
   "metadata": {},
   "outputs": [],
   "source": []
  }
 ],
 "metadata": {
  "kernelspec": {
   "display_name": "Python 3",
   "language": "python",
   "name": "python3"
  },
  "language_info": {
   "codemirror_mode": {
    "name": "ipython",
    "version": 3
   },
   "file_extension": ".py",
   "mimetype": "text/x-python",
   "name": "python",
   "nbconvert_exporter": "python",
   "pygments_lexer": "ipython3",
   "version": "3.6.6"
  }
 },
 "nbformat": 4,
 "nbformat_minor": 4
}
