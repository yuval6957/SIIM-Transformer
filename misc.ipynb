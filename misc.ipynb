{
 "cells": [
  {
   "cell_type": "code",
   "execution_count": 1,
   "metadata": {},
   "outputs": [],
   "source": [
    "import json\n",
    "from sklearn.feature_extraction.text import CountVectorizer\n",
    "from IPython.core.interactiveshell import InteractiveShell\n",
    "InteractiveShell.ast_node_interactivity = \"all\"\n",
    "import warnings\n",
    "warnings.filterwarnings(action='once')\n",
    "import pickle\n",
    "%load_ext autoreload\n",
    "%autoreload 2\n",
    "%matplotlib inline\n"
   ]
  },
  {
   "cell_type": "code",
   "execution_count": 2,
   "metadata": {},
   "outputs": [],
   "source": [
    "#export\n",
    "import json\n",
    "class Parameters():\n",
    "    def __init__(self,**kargs):\n",
    "        for key in kargs.keys():\n",
    "            setattr(self,key,kargs[key])\n",
    "    def __call__(self,param,value=None):\n",
    "        if value is not None:\n",
    "            setattr(self,param,value)\n",
    "        return self.__getattribute__(param)\n",
    "\n",
    "def add_attr_rec(C,att_dict):\n",
    "    for key in att_dict.keys():\n",
    "        if isinstance(att_dict[key],dict):\n",
    "            setattr(C,key,Parameters())\n",
    "            add_attr_rec(C.__dict__[key],att_dict[key])\n",
    "        else:\n",
    "            setattr(C,key,att_dict[key])\n",
    "        \n",
    "def json_to_parameters(config_file):\n",
    "    with open(config_file) as json_data_file:\n",
    "        data = json.load(json_data_file)\n",
    "    params=Parameters()\n",
    "    add_attr_rec(params,data)\n",
    "    return params\n",
    "\n",
    "\n",
    "\n",
    "def file_log(file_name,config_file=None,**kargs):\n",
    "    fname=file_name[:file_name.rfind('.')]+'.json'\n",
    "    if config_file is None:\n",
    "        log_dict={**{'ref_file_name':file_name},**kargs}\n",
    "    else:\n",
    "        with open(config_file) as json_data_file:\n",
    "            log_dict={**{'ref_file_name':file_name},**json.load(json_data_file),**kargs}\n",
    "    with open(fname,'wt') as f:\n",
    "        json.dump(log_dict, f, indent=4, sort_keys=True)\n",
    "        f.write('\\n')"
   ]
  },
  {
   "cell_type": "code",
   "execution_count": 3,
   "metadata": {},
   "outputs": [],
   "source": [
    "#export\n",
    "from torch.utils.data import Dataset\n",
    "import torch\n",
    "import smtplib\n",
    "class DatasetCat(Dataset):\n",
    "    '''\n",
    "    Concatenate datasets for Pytorch dataloader\n",
    "    The normal pytorch implementation does it only for raws. this is a \"column\" implementation\n",
    "    Arges:\n",
    "        datasets: list of datasets, of the same length\n",
    "    Updated: Yuval 12/10/2019\n",
    "    '''\n",
    "\n",
    "    def __init__(self,datasets):\n",
    "        '''\n",
    "        Args: datasets - an iterable containing the datasets\n",
    "        '''\n",
    "        super(DatasetCat, self).__init__()\n",
    "        self.datasets=datasets\n",
    "        assert len(self.datasets)>0\n",
    "        for dataset in datasets:\n",
    "            assert len(self.datasets[0])==len(dataset),\"Datasets length should be equal\"\n",
    "\n",
    "    def __len__(self):\n",
    "        return len(self.datasets[0])\n",
    "\n",
    "    def __getitem__(self, idx):\n",
    "        outputs = tuple(dataset.__getitem__(idx) for i in self.datasets for dataset in (i if isinstance(i, tuple) else (i,)))\n",
    "        return tuple(output for i in outputs for output in (i if isinstance(i, tuple) else (i,)))\n",
    "    \n",
    "def device_by_name(name):\n",
    "    ''' Return reference to cuda device by using Part of it's name\n",
    "        \n",
    "        Args:\n",
    "            name: part of the cuda device name (shuuld be distinct\n",
    "            \n",
    "        Return:\n",
    "            Reference to cuda device\n",
    "            \n",
    "        Updated: Yuval 12/10/19\n",
    "    '''\n",
    "    assert torch.cuda.is_available(),\"No cuda device\"\n",
    "    device=None\n",
    "    for i in range(torch.cuda.device_count()):\n",
    "        dv=torch.device(\"cuda:{}\".format(i))\n",
    "        if name in torch.cuda.get_device_name(dv):\n",
    "            device=dv\n",
    "            break\n",
    "    assert device, \"device {} not found\".format(name)\n",
    "    return device\n",
    "\n",
    "def get_model_device(model):\n",
    "    if not torch.cuda.is_available():\n",
    "        return torch.device('cpu')\n",
    "    else:\n",
    "        device_num = next(model.parameters()).get_device()\n",
    "        if device_num<0:\n",
    "            return torch.device('cpu')\n",
    "        else:\n",
    "            return torch.device(\"cuda:{}\".format(device_num))\n",
    "\n",
    "        \n",
    "class Email_Progress():\n",
    "    ''' class  - Email progress to myself\n",
    "    \n",
    "        Args:\n",
    "            source email    : Gmail user name, don't need the @gmail.com (don't use your mail account - risky)\n",
    "            source_password : Gmail Password (RiSK!!!!!!!!!!!)\n",
    "            target_email    : The recipt email\n",
    "            title           : Email's Title\n",
    "            \n",
    "       Methods:\n",
    "           __call__\n",
    "           Args:\n",
    "               history - directory with the data to send\n",
    "               \n",
    "       Update: Yuval 12/10/19\n",
    "    '''\n",
    "    \n",
    "    def __init__(self,source_email,source_password,target_email,title):\n",
    "        self.source_email=source_email\n",
    "        self.source_password=source_password\n",
    "        self.target_email=target_email\n",
    "        self.title=title\n",
    "        \n",
    "    def __call__(self,history):\n",
    "        str_list=['Subject:{}\\n'.format(self.title)]+[str(d)[1:-2].replace(\"'\",'').replace(':','')+'\\n' for d in history]\n",
    "        email_text=''.join(str_list)            \n",
    "        try:\n",
    "            server = smtplib.SMTP_SSL('smtp.gmail.com', 465)\n",
    "            server.ehlo()\n",
    "            server.login(self.source_email, self.source_password)\n",
    "            server.sendmail(self.source_email, self.target_email, email_text)\n",
    "            server.close()\n",
    "            return 0\n",
    "        except Exception as e:\n",
    "            print(e)\n",
    "            print ('Something went wrong...')\n",
    "            return e\n",
    "\n"
   ]
  },
  {
   "cell_type": "code",
   "execution_count": 4,
   "metadata": {},
   "outputs": [],
   "source": [
    "params=json_to_parameters('config.json')"
   ]
  },
  {
   "cell_type": "code",
   "execution_count": 6,
   "metadata": {},
   "outputs": [
    {
     "data": {
      "text/plain": [
       "'/workspace/hd/'"
      ]
     },
     "execution_count": 6,
     "metadata": {},
     "output_type": "execute_result"
    }
   ],
   "source": [
    "params.path.data"
   ]
  },
  {
   "cell_type": "code",
   "execution_count": 31,
   "metadata": {},
   "outputs": [],
   "source": [
    "#export\n",
    "from xml.dom import minidom\n",
    "from collections import Mapping\n",
    "\n",
    "def dict2element(root,structure,doc):\n",
    "    \"\"\"\n",
    "    Gets a dictionary like structure and converts its\n",
    "    content into xml elements. After that appends\n",
    "    resulted elements to root element. If root element\n",
    "    is a string object creates a new elements with the\n",
    "    given string and use that element as root.\n",
    "    This function returns a xml element object.\n",
    "    \"\"\"\n",
    "    assert isinstance(structure,Mapping), 'Structure must be a mapping object such as dict'\n",
    "    \n",
    "    # if root is a string make it a element\n",
    "    if isinstance(root,str):\n",
    "        root = doc.createElement(root)\n",
    "\n",
    "    for key,value in structure.items():\n",
    "        el = doc.createElement(str(key))\n",
    "        if isinstance(value,Mapping):\n",
    "            dict2element(el,value,doc)\n",
    "        else:\n",
    "            el.appendChild(doc.createTextNode(str(value) if value is not None  else ''))\n",
    "        root.appendChild(el)\n",
    "        \n",
    "    return root\n",
    "\n",
    "    \n",
    "def dict2xml(structure,tostring=False):\n",
    "    \"\"\"\n",
    "    Gets a dict like object as a structure and returns a corresponding minidom\n",
    "    document object.\n",
    "    If str is needed instead of minidom, tostring parameter can be used\n",
    "    \n",
    "    Restrictions:\n",
    "    Structure must only have one root.\n",
    "    Structure must consist of str or dict objects (other types will\n",
    "    converted into string)\n",
    "    Sample structure object would be\n",
    "    {'root':{'elementwithtextnode':'text content','innerelements':{'innerinnerelements':'inner element content'}}}\n",
    "    result for this structure would be\n",
    "    '<?xml version=\"1.0\" ?>\n",
    "    <root>\n",
    "      <innerelements><innerinnerelements>inner element content</innerinnerelements></innerelements>\n",
    "      <elementwithtextnode>text content</elementwithtextnode>\n",
    "    </root>'    \n",
    "    \"\"\"\n",
    "    # This is main function call. which will return a document\n",
    "    assert len(structure) == 1, 'Structure must have only one root element'\n",
    "    assert isinstance(structure,Mapping), 'Structure must be a mapping object such as dict'\n",
    "\n",
    "    root_element_name, value = next(iter(structure.items()))\n",
    "    impl = minidom.getDOMImplementation()\n",
    "    doc = impl.createDocument(None,str(root_element_name),None)\n",
    "    dict2element(doc.documentElement,value,doc)\n",
    "    return doc.toxml() if tostring else doc"
   ]
  },
  {
   "cell_type": "code",
   "execution_count": 1,
   "metadata": {},
   "outputs": [
    {
     "data": {
      "application/javascript": [
       "var kernel = IPython.notebook.kernel;\n",
       "var thename = window.document.getElementById(\"notebook_name\").innerHTML;\n",
       "var command = \"theNotebook = \" + \"'\"+thename+\"'\";\n",
       "kernel.execute(command);\n",
       "IPython.notebook.save_notebook()\n"
      ],
      "text/plain": [
       "<IPython.core.display.Javascript object>"
      ]
     },
     "metadata": {},
     "output_type": "display_data"
    }
   ],
   "source": [
    "%%javascript\n",
    "var kernel = IPython.notebook.kernel;\n",
    "var thename = window.document.getElementById(\"notebook_name\").innerHTML;\n",
    "var command = \"theNotebook = \" + \"'\"+thename+\"'\";\n",
    "kernel.execute(command);\n",
    "IPython.notebook.save_notebook()"
   ]
  },
  {
   "cell_type": "code",
   "execution_count": 2,
   "metadata": {},
   "outputs": [
    {
     "name": "stdout",
     "output_type": "stream",
     "text": [
      "Converted misc.ipynb to exp/misc.py\r\n"
     ]
    }
   ],
   "source": [
    "full_notebook_name=theNotebook+'.ipynb'\n",
    "!python notebook2script.py {full_notebook_name}"
   ]
  },
  {
   "cell_type": "code",
   "execution_count": null,
   "metadata": {},
   "outputs": [],
   "source": []
  }
 ],
 "metadata": {
  "kernelspec": {
   "display_name": "Python 3",
   "language": "python",
   "name": "python3"
  },
  "language_info": {
   "codemirror_mode": {
    "name": "ipython",
    "version": 3
   },
   "file_extension": ".py",
   "mimetype": "text/x-python",
   "name": "python",
   "nbconvert_exporter": "python",
   "pygments_lexer": "ipython3",
   "version": "3.6.6"
  }
 },
 "nbformat": 4,
 "nbformat_minor": 2
}
