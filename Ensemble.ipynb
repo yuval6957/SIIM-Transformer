{
 "cells": [
  {
   "cell_type": "code",
   "execution_count": 1,
   "metadata": {},
   "outputs": [
    {
     "name": "stderr",
     "output_type": "stream",
     "text": [
      "/opt/conda/lib/python3.6/importlib/_bootstrap.py:219: RuntimeWarning: numpy.ufunc size changed, may indicate binary incompatibility. Expected 192 from C header, got 216 from PyObject\n",
      "  return f(*args, **kwds)\n",
      "/opt/conda/lib/python3.6/importlib/_bootstrap.py:219: RuntimeWarning: numpy.ufunc size changed, may indicate binary incompatibility. Expected 192 from C header, got 216 from PyObject\n",
      "  return f(*args, **kwds)\n",
      "/opt/conda/lib/python3.6/importlib/_bootstrap.py:219: RuntimeWarning: numpy.ufunc size changed, may indicate binary incompatibility. Expected 192 from C header, got 216 from PyObject\n",
      "  return f(*args, **kwds)\n",
      "/opt/conda/lib/python3.6/importlib/_bootstrap.py:219: RuntimeWarning: numpy.ufunc size changed, may indicate binary incompatibility. Expected 192 from C header, got 216 from PyObject\n",
      "  return f(*args, **kwds)\n",
      "/opt/conda/lib/python3.6/importlib/_bootstrap.py:219: RuntimeWarning: numpy.ufunc size changed, may indicate binary incompatibility. Expected 192 from C header, got 216 from PyObject\n",
      "  return f(*args, **kwds)\n",
      "/opt/conda/lib/python3.6/importlib/_bootstrap.py:219: RuntimeWarning: numpy.ufunc size changed, may indicate binary incompatibility. Expected 192 from C header, got 216 from PyObject\n",
      "  return f(*args, **kwds)\n",
      "/opt/conda/lib/python3.6/importlib/_bootstrap.py:219: RuntimeWarning: numpy.ufunc size changed, may indicate binary incompatibility. Expected 192 from C header, got 216 from PyObject\n",
      "  return f(*args, **kwds)\n"
     ]
    }
   ],
   "source": [
    "import warnings\n",
    "warnings.filterwarnings(action='once')\n",
    "import pandas as pd\n",
    "import numpy as np\n",
    "import matplotlib.pylab as plt\n",
    "import seaborn as sns\n",
    "import datetime\n",
    "from IPython.core.interactiveshell import InteractiveShell\n",
    "InteractiveShell.ast_node_interactivity = \"all\"\n",
    "import pickle\n",
    "%load_ext autoreload\n",
    "%autoreload 2\n",
    "%matplotlib inline\n",
    "from exp.misc import *\n",
    "from exp.ProcessData import *\n",
    "from exp.PytorchModels import *\n",
    "from exp.LearnerClass import *\n",
    "import torch\n",
    "import torch.nn as nn\n",
    "import torch.utils.data as D\n",
    "import torch.nn.functional as F\n",
    "import copy\n",
    "from torchvision import transforms\n",
    "import PIL.Image\n",
    "from sklearn.metrics import roc_auc_score\n",
    "import torchvision.transforms.functional as TF\n",
    "from types import MethodType\n"
   ]
  },
  {
   "cell_type": "code",
   "execution_count": 2,
   "metadata": {},
   "outputs": [],
   "source": [
    "params=json_to_parameters('config.json')\n"
   ]
  },
  {
   "cell_type": "code",
   "execution_count": 3,
   "metadata": {},
   "outputs": [],
   "source": [
    "test_df=pd.read_csv(params.path.data+'test.csv')\n",
    "prepare_df(test_df)\n",
    "test_df=test_df.reset_index(drop=True)\n"
   ]
  },
  {
   "cell_type": "code",
   "execution_count": 13,
   "metadata": {},
   "outputs": [
    {
     "name": "stdout",
     "output_type": "stream",
     "text": [
      "tf_efficientnet_b5_ns_image_mlps_cut_128_seed_fullv_predict.pth 108\n",
      "tf_efficientnet_b3_ns_image_mlps_cut_128_seed_fullv_predict.pth 144\n",
      "tf_efficientnet_b4_ns_image_mlps_cut_128_seed_fullv_predict.pth 144\n",
      "tf_efficientnet_b6_ns_image_mlps_cut_128_seed_fullv_large_predict.pth 144\n",
      "tf_efficientnet_b7_ns_image_mlps_cut_128_seed_fullv_predict.pth 108\n",
      "tf_efficientnet_b5_ns_image_mlps_cut_128_seed_fullv_transformer_origonly_focal_lr_predict.pth 144\n",
      "tf_efficientnet_b7_ns_image_mlps_cut_128_seed_fullv_transformer_origonly_predict.pth 144\n",
      "tf_efficientnet_b3_ns_image_mlps_cut_128_seed_fullv_transformer_sample_origonly_rand23_predict.pth 288\n",
      "tf_efficientnet_b6_ns_image_mlps_cut_128_seed_fullv_large_transformer_sample_origonly_rand23_predict.pth 288\n",
      "tf_efficientnet_b4_ns_image_mlps_cut_128_seed_fullv_transformer_sample_origonly_rand23_predict.pth 288\n"
     ]
    },
    {
     "data": {
      "text/plain": [
       "10.0"
      ]
     },
     "execution_count": 13,
     "metadata": {},
     "output_type": "execute_result"
    },
    {
     "data": {
      "text/plain": [
       "4.8839895e-26"
      ]
     },
     "execution_count": 13,
     "metadata": {},
     "output_type": "execute_result"
    },
    {
     "data": {
      "text/plain": [
       "1.0"
      ]
     },
     "execution_count": 13,
     "metadata": {},
     "output_type": "execute_result"
    },
    {
     "data": {
      "text/plain": [
       "0.091845155"
      ]
     },
     "execution_count": 13,
     "metadata": {},
     "output_type": "execute_result"
    },
    {
     "data": {
      "image/png": "[encoded data removed]",
      "text/plain": [
       "<Figure size 432x288 with 1 Axes>"
      ]
     },
     "metadata": {
      "needs_background": "light"
     },
     "output_type": "display_data"
    }
   ],
   "source": [
    "predss_arr=[('tf_efficientnet_b5_ns_image_mlps_cut_128_seed_fullv_predict.pth',1.),\n",
    "#             ('tf_efficientnet_b5_ns_image_mlps_cut_128_seed_fullv_large_predict.pth',1.),\n",
    "            ('tf_efficientnet_b3_ns_image_mlps_cut_128_seed_fullv_predict.pth',1.),\n",
    "            ('tf_efficientnet_b4_ns_image_mlps_cut_128_seed_fullv_predict.pth',1.),\n",
    "            ('tf_efficientnet_b6_ns_image_mlps_cut_128_seed_fullv_large_predict.pth',1.),\n",
    "            ('tf_efficientnet_b7_ns_image_mlps_cut_128_seed_fullv_predict.pth',1.),\n",
    "#             ('tf_efficientnet_b5_ns_image_mlps_cut_128_seed_fullv_large_transformer_linear_origonly_recalc_predict.pth',1),\n",
    "            ('tf_efficientnet_b5_ns_image_mlps_cut_128_seed_fullv_transformer_origonly_focal_lr_predict.pth',1.),\n",
    "            ('tf_efficientnet_b7_ns_image_mlps_cut_128_seed_fullv_transformer_origonly_predict.pth',1.),\n",
    "            ('tf_efficientnet_b3_ns_image_mlps_cut_128_seed_fullv_transformer_sample_origonly_rand23_predict.pth',1.),\n",
    "            ('tf_efficientnet_b6_ns_image_mlps_cut_128_seed_fullv_large_transformer_sample_origonly_rand23_predict.pth',1.),\n",
    "            ('tf_efficientnet_b4_ns_image_mlps_cut_128_seed_fullv_transformer_sample_origonly_rand23_predict.pth',1.)]\n",
    "\n",
    "y_pred=None\n",
    "m=0\n",
    "for p in predss_arr:\n",
    "    with open(params.path.output+p[0],'rb') as f:\n",
    "        predss=pickle.load(f)\n",
    "    m = m + p[1]\n",
    "    pred=np.nanmean(np.stack(predss,0),0)\n",
    "    y_pred=m*pred if y_pred is None else y_pred+m*pred\n",
    "    print(p[0],len(predss))\n",
    "preds2=F.softmax(torch.tensor(y_pred/m,dtype=torch.float32),-1)[:,1].numpy()\n",
    "m\n",
    "\n",
    "preds2.min()\n",
    "preds2.max()\n",
    "preds2.std()\n",
    "_=plt.hist(preds2,bins=30)"
   ]
  },
  {
   "cell_type": "code",
   "execution_count": null,
   "metadata": {},
   "outputs": [],
   "source": [
    "\n",
    "sub=pd.read_csv(params.path.data+'sample_submission.csv')\n",
    "\n",
    "sub['image_name']=test_df['image_name']\n",
    "sub['target']=preds2\n",
    "sub.head(10)\n",
    "sub.to_csv(params.path.output+'/submission.csv',index=False)"
   ]
  },
  {
   "cell_type": "code",
   "execution_count": null,
   "metadata": {},
   "outputs": [],
   "source": []
  }
 ],
 "metadata": {
  "kernelspec": {
   "display_name": "Python 3",
   "language": "python",
   "name": "python3"
  },
  "language_info": {
   "codemirror_mode": {
    "name": "ipython",
    "version": 3
   },
   "file_extension": ".py",
   "mimetype": "text/x-python",
   "name": "python",
   "nbconvert_exporter": "python",
   "pygments_lexer": "ipython3",
   "version": "3.6.6"
  }
 },
 "nbformat": 4,
 "nbformat_minor": 4
}
